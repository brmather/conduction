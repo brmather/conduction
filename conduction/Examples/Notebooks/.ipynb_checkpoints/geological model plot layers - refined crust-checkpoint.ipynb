{
 "cells": [
  {
   "cell_type": "markdown",
   "metadata": {},
   "source": [
    "# Geological model\n",
    "\n",
    "Assemble the geological model from xyz data for each surface."
   ]
  },
  {
   "cell_type": "code",
   "execution_count": 1,
   "metadata": {},
   "outputs": [],
   "source": [
    "import numpy as np\n",
    "import matplotlib.pyplot as plt\n",
    "from mpl_toolkits.mplot3d import Axes3D\n",
    "%matplotlib inline\n",
    "\n",
    "from scipy.spatial import cKDTree\n",
    "from scipy.interpolate import RegularGridInterpolator\n",
    "from scipy.interpolate import SmoothBivariateSpline, RectBivariateSpline\n",
    "\n",
    "import conduction"
   ]
  },
  {
   "cell_type": "code",
   "execution_count": 2,
   "metadata": {},
   "outputs": [],
   "source": [
    "directory = '../data/Ireland_model/'"
   ]
  },
  {
   "cell_type": "markdown",
   "metadata": {},
   "source": [
    "These layers define the volume between each surface in the `layers_xy` folder.\n",
    "\n",
    "Turns out these layers are defined on a grid..."
   ]
  },
  {
   "cell_type": "code",
   "execution_count": 3,
   "metadata": {},
   "outputs": [],
   "source": [
    "layer_attributes = np.loadtxt(directory+'layers.info', skiprows=1, usecols=(2,3,4,5,6,7,8,9,10))\n",
    "layer_number = np.loadtxt(directory+'layers.info', dtype=int, skiprows=1, usecols=(0,))\n",
    "layer_name   = np.loadtxt(directory+'layers.info', dtype=str, skiprows=1, usecols=(1,))\n",
    "\n",
    "layer_header = ['body number', 'density', 'alpha', 'thermal conductivity', 'heat production rate',\\\n",
    "                'pressure coefficient', 'Gruneisen parameter', 'pressure derivative of bulk modulus', 'man']"
   ]
  },
  {
   "cell_type": "code",
   "execution_count": 4,
   "metadata": {},
   "outputs": [],
   "source": [
    "nl = 18 # number of lithologies\n",
    "\n",
    "layer = dict()\n",
    "for i in range(0, nl):\n",
    "    data = np.loadtxt(directory+'layers_xy/layer{}.xyz'.format(i))\n",
    "    layer[i] = data"
   ]
  },
  {
   "cell_type": "code",
   "execution_count": 5,
   "metadata": {},
   "outputs": [],
   "source": [
    "minX, maxX = (350000.0, 788000.0)\n",
    "minY, maxY = (480000.0, 1000000.0)\n",
    "\n",
    "# overwrite minZ/maxZ\n",
    "minZ = -130e3\n",
    "maxZ = 600.0"
   ]
  },
  {
   "cell_type": "code",
   "execution_count": 6,
   "metadata": {},
   "outputs": [],
   "source": [
    "spl = dict()\n",
    "\n",
    "for i in range(nl):\n",
    "    data = layer[i]\n",
    "    xl = data[:,0]\n",
    "    yl = data[:,1]\n",
    "    \n",
    "    Xcoords = np.unique(xl)\n",
    "    Ycoords = np.unique(yl)\n",
    "    nx, ny = Xcoords.size, Ycoords.size\n",
    "    \n",
    "    zl = data[:,2].reshape(ny,nx)\n",
    "\n",
    "    spl[i] = RectBivariateSpline(Ycoords, Xcoords, zl)"
   ]
  },
  {
   "cell_type": "markdown",
   "metadata": {},
   "source": [
    "We will create 2D bivariate splines to interpolate the x,y coordinates with z property.\n",
    "\n",
    "> We need to play with $s$ to get optimal smoothness"
   ]
  },
  {
   "cell_type": "markdown",
   "metadata": {},
   "source": [
    "## Setup the hexahedral mesh"
   ]
  },
  {
   "cell_type": "code",
   "execution_count": 7,
   "metadata": {},
   "outputs": [],
   "source": [
    "Nx, Ny, Nz = 51, 51, 204\n",
    "\n",
    "mesh = conduction.ConductionND((minX, minY, minZ), (maxX, maxY, maxZ), (Nx, Ny, Nz))\n",
    "\n",
    "coords = mesh.coords\n",
    "\n",
    "Xcoords = np.unique(coords[:,0])\n",
    "Ycoords = np.unique(coords[:,1])\n",
    "Zcoords = np.unique(coords[:,2])\n",
    "\n",
    "nx, ny, nz = Xcoords.size, Ycoords.size, Zcoords.size"
   ]
  },
  {
   "cell_type": "markdown",
   "metadata": {},
   "source": [
    "## Fill the volume between each surface\n",
    "\n",
    "A flood-fill algorithm, like the poisson-disc sampler, would do well with surfaces that curve back on themselves. Best case this is a $O(n)$ algorithm. Since we know that these surfaces are like pancakes, we can opt for an indexing-fill approach column-by-column. This should be $O(\\log n)$ efficiency.\n",
    "\n",
    "For geometries that curve in on themselves, another way to seal holes in the mesh is required. For now the spline is more than adequate."
   ]
  },
  {
   "cell_type": "code",
   "execution_count": 8,
   "metadata": {},
   "outputs": [],
   "source": [
    "xq, yq = np.meshgrid(Xcoords, Ycoords)\n",
    "xq = xq.ravel()\n",
    "yq = yq.ravel()\n",
    "\n",
    "horizontal_slice = np.column_stack([xq, yq])"
   ]
  },
  {
   "cell_type": "code",
   "execution_count": 9,
   "metadata": {},
   "outputs": [],
   "source": [
    "# create layer voxel\n",
    "layer_voxel = np.zeros((nz, ny, nx), dtype=np.int8)\n",
    "layer_mask = np.zeros(nx*ny*nz, dtype=bool)\n",
    "\n",
    "# create KDTree\n",
    "tree = cKDTree(coords)"
   ]
  },
  {
   "cell_type": "code",
   "execution_count": 10,
   "metadata": {},
   "outputs": [
    {
     "name": "stdout",
     "output_type": "stream",
     "text": [
      "mapped layer 0\n",
      "mapped layer 1\n",
      "mapped layer 2\n",
      "mapped layer 3\n",
      "mapped layer 4\n",
      "mapped layer 5\n",
      "mapped layer 6\n",
      "mapped layer 7\n",
      "mapped layer 8\n",
      "mapped layer 9\n",
      "mapped layer 10\n",
      "mapped layer 11\n",
      "mapped layer 12\n",
      "mapped layer 13\n",
      "mapped layer 14\n",
      "mapped layer 15\n",
      "mapped layer 16\n",
      "mapped layer 17\n"
     ]
    }
   ],
   "source": [
    "def query_nearest(l):\n",
    "    layer_mask.fill(0)\n",
    "    \n",
    "    zq = spl[l].ev(yq, xq)\n",
    "    d, idx = tree.query(np.column_stack([xq, yq, zq]))\n",
    "    layer_mask[idx] = True\n",
    "    \n",
    "    return np.where(layer_mask.reshape(nz,ny,nx))\n",
    "\n",
    "layer_voxel.fill(-1)\n",
    "\n",
    "for l in range(nl):\n",
    "    i0, j0, k0 = query_nearest(l)\n",
    "\n",
    "    for i in range(i0.size):\n",
    "        layer_voxel[:i0[i], j0[i], k0[i]] = l+1\n",
    "\n",
    "    print(\"mapped layer {}\".format(l))"
   ]
  },
  {
   "cell_type": "code",
   "execution_count": 11,
   "metadata": {},
   "outputs": [
    {
     "data": {
      "text/plain": [
       "<matplotlib.colorbar.Colorbar at 0x7f94a0b7c4c0>"
      ]
     },
     "execution_count": 11,
     "metadata": {},
     "output_type": "execute_result"
    },
    {
     "data": {
      "image/png": "[encoded data removed]",
      "text/plain": [
       "<Figure size 432x288 with 2 Axes>"
      ]
     },
     "metadata": {
      "needs_background": "light"
     },
     "output_type": "display_data"
    }
   ],
   "source": [
    "plt.imshow(layer_voxel[201])\n",
    "plt.colorbar()"
   ]
  },
  {
   "cell_type": "code",
   "execution_count": 12,
   "metadata": {},
   "outputs": [],
   "source": [
    "mesh.save_mesh_to_hdf5('new_crustal_lithologies.h5')\n",
    "mesh.save_field_to_hdf5('new_crustal_lithologies.h5', lithology=layer_voxel.ravel())\n",
    "conduction.tools.generateXdmf('new_crustal_lithologies.h5')"
   ]
  },
  {
   "cell_type": "markdown",
   "metadata": {},
   "source": [
    "Now map properties to these layers. Where these layers are not defined we have a default value assigned to them."
   ]
  },
  {
   "cell_type": "code",
   "execution_count": 13,
   "metadata": {},
   "outputs": [
    {
     "name": "stdout",
     "output_type": "stream",
     "text": [
      "1 Donegal_Granite_1 \t k = 2.2890146349, H = 1.9e-06\n",
      "2 Donegal_Granite_2 \t k = 2.2890146349, H = 1.9e-06\n",
      "3 Galway_Granite \t k = 2.2890146349, H = 2.8e-06\n",
      "4 Leinster_Granite \t k = 2.2890146349, H = 2.3e-06\n",
      "5 Granite \t k = 2.2890146349, H = 2e-06\n",
      "6 Cenozoic_volcanics \t k = 1.5968017234, H = 1e-07\n",
      "7 Permian_Triassic_sediments \t k = 2.85, H = 1.4e-06\n",
      "8 Upper_Carboniferous_sediments \t k = 2.9799206362, H = 2.4e-06\n",
      "9 Lower_Carboniferous_sediments \t k = 2.7880011781, H = 7e-07\n",
      "10 Devonian_sediments \t k = 3.116102693, H = 1.7e-06\n",
      "11 Silurian_sediments \t k = 2.8649777111, H = 1.5e-06\n",
      "12 Ordovician_volcanics \t k = 1.8156423335, H = 1.5e-06\n",
      "13 Dalradian_Supergroup \t k = 3.5, H = 1.4e-06\n",
      "14 Proterozoic_Basement \t k = 3.5, H = 1.4e-06\n",
      "15 Middle_crust \t k = 3.5, H = 1e-07\n",
      "16 Lower_crust \t k = 4.0, H = 1e-07\n",
      "17 Leinster_lithospheric_mantle \t k = 5.3, H = 1e-07\n",
      "18 Mid-Valley_lithospheric_mantle \t k = 5.3, H = 1e-07\n",
      "19 Connemara_lithospheric_mantle \t k = 5.3, H = 1e-07\n",
      "20 Grampian_lithospheric_mantle \t k = 5.3, H = 1e-07\n"
     ]
    }
   ],
   "source": [
    "k = np.ones_like(layer_voxel, dtype=np.float32)*3\n",
    "H = np.zeros_like(layer_voxel, dtype=np.float32)\n",
    "\n",
    "for i, l in enumerate(layer_number):\n",
    "    name = layer_name[i]\n",
    "    mask = layer_voxel == l\n",
    "    ki = layer_attributes[i,2]\n",
    "    Hi = layer_attributes[i,3]\n",
    "    k[mask] = ki\n",
    "    H[mask] = Hi\n",
    "    print('{} {} \\t k = {}, H = {}'.format(l, name, ki, Hi))\n",
    "    \n",
    "k = k.ravel()\n",
    "H = H.ravel()"
   ]
  },
  {
   "cell_type": "code",
   "execution_count": 14,
   "metadata": {},
   "outputs": [],
   "source": [
    "# Update properties\n",
    "mesh.update_properties(k, H)\n",
    "\n",
    "# Boundary conditions\n",
    "mesh.boundary_condition('maxZ', 298.0, flux=False)\n",
    "mesh.boundary_condition('minZ', 1300., flux=False)"
   ]
  },
  {
   "cell_type": "code",
   "execution_count": 15,
   "metadata": {},
   "outputs": [
    {
     "ename": "TypeError",
     "evalue": "Argument 'A' has incorrect type (expected petsc4py.PETSc.Mat, got str)",
     "output_type": "error",
     "traceback": [
      "\u001b[0;31m---------------------------------------------------------------------------\u001b[0m",
      "\u001b[0;31mTypeError\u001b[0m                                 Traceback (most recent call last)",
      "\u001b[0;32m<ipython-input-15-ee0803034937>\u001b[0m in \u001b[0;36m<module>\u001b[0;34m\u001b[0m\n\u001b[0;32m----> 1\u001b[0;31m \u001b[0msol\u001b[0m \u001b[0;34m=\u001b[0m \u001b[0mmesh\u001b[0m\u001b[0;34m.\u001b[0m\u001b[0msolve\u001b[0m\u001b[0;34m(\u001b[0m\u001b[0;34m'bcgs'\u001b[0m\u001b[0;34m)\u001b[0m\u001b[0;34m\u001b[0m\u001b[0;34m\u001b[0m\u001b[0m\n\u001b[0m",
      "\u001b[0;32m~/Documents/newcastle_postdoc/coding_practice/code_from_other_people/ben_mather/ben-mather-conduction/conduction/solver/conductionNd.py\u001b[0m in \u001b[0;36msolve\u001b[0;34m(self, matrix, rhs)\u001b[0m\n\u001b[1;32m    519\u001b[0m \u001b[0;34m\u001b[0m\u001b[0m\n\u001b[1;32m    520\u001b[0m         \u001b[0mksp\u001b[0m \u001b[0;34m=\u001b[0m \u001b[0mself\u001b[0m\u001b[0;34m.\u001b[0m\u001b[0mksp\u001b[0m\u001b[0;34m\u001b[0m\u001b[0;34m\u001b[0m\u001b[0m\n\u001b[0;32m--> 521\u001b[0;31m         \u001b[0mksp\u001b[0m\u001b[0;34m.\u001b[0m\u001b[0msetOperators\u001b[0m\u001b[0;34m(\u001b[0m\u001b[0mmatrix\u001b[0m\u001b[0;34m)\u001b[0m\u001b[0;34m\u001b[0m\u001b[0;34m\u001b[0m\u001b[0m\n\u001b[0m\u001b[1;32m    522\u001b[0m         \u001b[0mksp\u001b[0m\u001b[0;34m.\u001b[0m\u001b[0msolve\u001b[0m\u001b[0;34m(\u001b[0m\u001b[0mrhs\u001b[0m\u001b[0;34m.\u001b[0m\u001b[0m_gdata\u001b[0m\u001b[0;34m,\u001b[0m \u001b[0mres\u001b[0m\u001b[0;34m.\u001b[0m\u001b[0m_gdata\u001b[0m\u001b[0;34m)\u001b[0m\u001b[0;34m\u001b[0m\u001b[0;34m\u001b[0m\u001b[0m\n\u001b[1;32m    523\u001b[0m         \u001b[0;31m# We should hand this back to local vectors\u001b[0m\u001b[0;34m\u001b[0m\u001b[0;34m\u001b[0m\u001b[0;34m\u001b[0m\u001b[0m\n",
      "\u001b[0;31mTypeError\u001b[0m: Argument 'A' has incorrect type (expected petsc4py.PETSc.Mat, got str)"
     ]
    }
   ],
   "source": [
    "### TypeError: Argument 'A' has incorrect type (expected petsc4py.PETSc.Mat, got str)\n",
    "\n",
    "sol = mesh.solve('bcgs')"
   ]
  },
  {
   "cell_type": "code",
   "execution_count": null,
   "metadata": {},
   "outputs": [],
   "source": [
    "H5_file = 'geological_model.h5'\n",
    "\n",
    "mesh.save_mesh_to_hdf5(H5_file)\n",
    "mesh.save_field_to_hdf5(H5_file, ID=layer_voxel.ravel(), k=mesh.diffusivity, H=mesh.heat_sources, T=sol)\n",
    "conduction.generateXdmf(H5_file)"
   ]
  },
  {
   "cell_type": "markdown",
   "metadata": {},
   "source": [
    "Heat flow slice"
   ]
  },
  {
   "cell_type": "code",
   "execution_count": null,
   "metadata": {
    "collapsed": true
   },
   "outputs": [],
   "source": [
    "T0 = sol.reshape(nz,ny,nx)[-1,:,:]\n",
    "T1 = sol.reshape(nz,ny,nx)[-2,:,:]\n",
    "\n",
    "k0 = sol.reshape(nz,ny,nx)[-1,:,:]\n",
    "\n",
    "HF = k0*(T1 - T0)/(Zcoords[-1] - Zcoords[-2])"
   ]
  },
  {
   "cell_type": "code",
   "execution_count": null,
   "metadata": {},
   "outputs": [],
   "source": [
    "fig = plt.figure(figsize=(12,8))\n",
    "ax1 = fig.add_subplot(111, xlim=[minX, maxX], ylim=[minY, maxY])\n",
    "im1 = ax1.imshow(HF, origin='lower', extent=[minX, maxX, minY, maxY], aspect='equal')\n",
    "fig.colorbar(im1)\n",
    "plt.imshow(HF)\n",
    "plt.savefig('HF.png')"
   ]
  },
  {
   "cell_type": "code",
   "execution_count": null,
   "metadata": {
    "collapsed": true
   },
   "outputs": [],
   "source": []
  }
 ],
 "metadata": {
  "kernelspec": {
   "display_name": "Python 3",
   "language": "python",
   "name": "python3"
  },
  "language_info": {
   "codemirror_mode": {
    "name": "ipython",
    "version": 3
   },
   "file_extension": ".py",
   "mimetype": "text/x-python",
   "name": "python",
   "nbconvert_exporter": "python",
   "pygments_lexer": "ipython3",
   "version": "3.8.5"
  }
 },
 "nbformat": 4,
 "nbformat_minor": 2
}
